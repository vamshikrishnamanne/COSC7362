{
 "cells": [
  {
   "cell_type": "code",
   "execution_count": 1,
   "id": "1bb9849c",
   "metadata": {},
   "outputs": [],
   "source": [
    "import random\n",
    "import numpy as np\n",
    "import matplotlib.pyplot as plt\n",
    "import numpy.random as npr\n",
    "from sklearn.datasets import load_boston\n",
    "from sklearn.linear_model import LinearRegression\n",
    "from sklearn.model_selection import train_test_split"
   ]
  },
  {
   "cell_type": "code",
   "execution_count": 2,
   "id": "ecdacb62",
   "metadata": {},
   "outputs": [],
   "source": [
    "maximum_fitness = 1\n",
    "statistics=[[],[],[]]"
   ]
  },
  {
   "cell_type": "code",
   "execution_count": 3,
   "id": "a84914b5",
   "metadata": {},
   "outputs": [],
   "source": [
    "def probability(individual):\n",
    "    return (fitness(individual) / maximum_fitness)"
   ]
  },
  {
   "cell_type": "code",
   "execution_count": 4,
   "id": "d835a08a",
   "metadata": {},
   "outputs": [],
   "source": [
    "def selection(population, population_fitness,gen):\n",
    "    probabilities = [probability(n) for n in population]\n",
    "    sel_type = get_selection_type(gen)\n",
    "    if sel_type=='random pick':\n",
    "#         print(\"random pick\")\n",
    "        x = random_pick(population, probabilities)\n",
    "        y = random_pick(population, probabilities)\n",
    "    elif sel_type=='roulette pick':\n",
    "#         print(\"r pick\")\n",
    "        x = roulette_wheel(population)\n",
    "        y = roulette_wheel(population)\n",
    "    elif sel_type=='tournament pick':\n",
    "#         print(\"t pick\")\n",
    "        x = tournament_selection(population)\n",
    "        y = tournament_selection(population)\n",
    "    elif sel_type=='rank pick':\n",
    "#         print(\"rank pick\")\n",
    "        x = rank_selection(population)\n",
    "        y = rank_selection(population)\n",
    "    return (x, y)"
   ]
  },
  {
   "cell_type": "code",
   "execution_count": 5,
   "id": "698128a5",
   "metadata": {},
   "outputs": [],
   "source": [
    "def init(n):\n",
    "    return [random.randrange(2) for _ in range(n)]\n"
   ]
  },
  {
   "cell_type": "code",
   "execution_count": 6,
   "id": "343c1d9f",
   "metadata": {},
   "outputs": [],
   "source": [
    "def nbr(x):\n",
    "    x = x.copy()\n",
    "    i = random.randrange(len(x))\n",
    "    x[i] = 1 - x[i]\n",
    "    return x"
   ]
  },
  {
   "cell_type": "code",
   "execution_count": 7,
   "id": "e2a5ad2e",
   "metadata": {},
   "outputs": [],
   "source": [
    "def uniform_crossover(p1, p2):\n",
    "    c1, c2 = [], []\n",
    "    for i in range(len(p1)):\n",
    "        if random.random() < 0.5:\n",
    "            c1.append(p1[i]); c2.append(p2[i])\n",
    "        else:\n",
    "            c1.append(p2[i]); c2.append(p1[i])\n",
    "    return np.array(c1), np.array(c2)"
   ]
  },
  {
   "cell_type": "code",
   "execution_count": 8,
   "id": "f781e25a",
   "metadata": {},
   "outputs": [],
   "source": [
    "def get_selection_type(generation):\n",
    "  if generation % 4 == 0:\n",
    "    return 'random pick'\n",
    "  elif generation % 4 == 2:\n",
    "    return 'roulette pick'\n",
    "  elif generation % 4 == 3:\n",
    "    return 'tournament pick'\n",
    "  elif generation % 4 == 1:\n",
    "    return 'rank pick'"
   ]
  },
  {
   "cell_type": "code",
   "execution_count": 9,
   "id": "0d7fbcf4",
   "metadata": {},
   "outputs": [],
   "source": [
    "def random_pick(population, probabilities):\n",
    "    populationWithProbabilty = zip(population, probabilities)\n",
    "    total = sum(w for c, w in populationWithProbabilty)\n",
    "    r = random.uniform(0, total)\n",
    "    upto = 0\n",
    "    for c, w in zip(population, probabilities):\n",
    "        if upto + w >= r:\n",
    "            return c\n",
    "        upto += w\n",
    "        \n",
    "def roulette_wheel(population):\n",
    "    sum_ = sum([fitness(c) for c in population])\n",
    "    selection_probs = [fitness(c) / sum_ for c in population]\n",
    "    return population[npr.choice(len(population), p=selection_probs)]\n",
    "\n",
    "def tournament_selection(population):\n",
    "    parents = random.choices(population, k=5)\n",
    "    parents = sorted(parents, key=lambda agent: fitness(agent), reverse=True)\n",
    "    return parents[0]\n",
    "\n",
    "def remove_duplicates(test_list):\n",
    "    population_tuples = [tuple(x) for x in test_list]\n",
    "    res = []\n",
    "    for i in population_tuples:\n",
    "        if i not in res:\n",
    "            res.append(i)\n",
    "    return res\n",
    "\n",
    "def rank_selection(population):   \n",
    "    population = remove_duplicates(list(population))\n",
    "    population = [list(x) for x in population]\n",
    "#     print(population)\n",
    "    pop_size = len(population)\n",
    "    max = pop_size * (pop_size + 1) / 2\n",
    "    fitness_list = [fitness(c) for c in population]\n",
    "    population_tuples = [tuple(x) for x in population]\n",
    "    chromosomes = dict(zip(population_tuples, fitness_list))\n",
    "    chromosomes = {k: v for k, v in sorted(chromosomes.items(), key=lambda item: item[1])}\n",
    "    selection_probs = []\n",
    "    for i in range(pop_size):\n",
    "        selection_probs.append((i + 1) / max)\n",
    "    sorted_population = list(chromosomes.keys())\n",
    "    return list(sorted_population[npr.choice(len(sorted_population), p=selection_probs)])"
   ]
  },
  {
   "cell_type": "code",
   "execution_count": 10,
   "id": "c5a7c665",
   "metadata": {},
   "outputs": [],
   "source": [
    "def GeneticAlgorithm(f, init, nbr, crossover, select, popsize, ngens, pmut):   \n",
    "    pop = [init() for _ in range(popsize)]\n",
    "    popfit = [f(x) for x in pop]\n",
    "    stats(0, popfit)\n",
    "    for gen in range(1, ngens):\n",
    "        newpop = []\n",
    "        bestidx = min(range(popsize), key=lambda i: popfit[i])\n",
    "        best = pop[bestidx]\n",
    "        newpop.append(best) \n",
    "        while len(newpop) < popsize:\n",
    "            p1, p2 = select(pop, popfit, gen)\n",
    "            c1, c2 = crossover(p1, p2)\n",
    "            if random.random() < pmut:\n",
    "                c1 = nbr(c1)\n",
    "            if random.random() < pmut:\n",
    "                c2 = nbr(c2)\n",
    "            newpop.append(c1)\n",
    "            if len(newpop) < popsize:\n",
    "                newpop.append(c2)\n",
    "        pop = newpop\n",
    "        popfit = [f(x) for x in pop]\n",
    "        stats(gen, popfit)\n",
    "    bestidx = np.argmax(popfit)\n",
    "    return popfit[bestidx], pop[bestidx]\n"
   ]
  },
  {
   "cell_type": "code",
   "execution_count": 11,
   "id": "ea1f27e0",
   "metadata": {},
   "outputs": [],
   "source": [
    "def stats(gen, popfit):\n",
    "    statistics[0].append(gen)\n",
    "    statistics[1].append(max(popfit))\n",
    "    statistics[2].append(np.mean(popfit))"
   ]
  },
  {
   "cell_type": "code",
   "execution_count": 12,
   "id": "6fe411fd",
   "metadata": {},
   "outputs": [],
   "source": [
    "X, y = load_boston(return_X_y=True)\n",
    "Xtrain, Xtest, ytrain, ytest = train_test_split(X, y, random_state=0)\n",
    "LR = LinearRegression()\n"
   ]
  },
  {
   "cell_type": "code",
   "execution_count": 13,
   "id": "3aa4766e",
   "metadata": {},
   "outputs": [],
   "source": [
    "def fitness(x):\n",
    "    if sum(x) == 0:\n",
    "        return 0\n",
    "    else:\n",
    "        x = [bool(xi) for xi in x] \n",
    "        Xtrain_tmp = Xtrain[:, x]\n",
    "        Xtest_tmp = Xtest[:, x]\n",
    "        LR.fit(Xtrain_tmp, ytrain)\n",
    "        return LR.score(Xtest_tmp, ytest)"
   ]
  },
  {
   "cell_type": "code",
   "execution_count": 14,
   "id": "f8b0270e",
   "metadata": {},
   "outputs": [
    {
     "name": "stdout",
     "output_type": "stream",
     "text": [
      "bestf :  0.0871949099666599\n",
      "best indipendent features selected by genetic algorithm :  [0, 1, 1, 0, 1, 0, 1, 0, 1, 0, 0, 0, 0]\n"
     ]
    }
   ],
   "source": [
    "n = 13\n",
    "popsize = 100\n",
    "ngens = 100\n",
    "pmut = 0.1\n",
    "bestf, best = GeneticAlgorithm(fitness,\n",
    "                    lambda: init(n),\n",
    "                    nbr,\n",
    "                    uniform_crossover,\n",
    "                    lambda pop, popfit, gen: selection(pop, popfit,gen),\n",
    "                    popsize,\n",
    "                    ngens,\n",
    "                    pmut\n",
    "                   )\n",
    " \n",
    "\n",
    "print(\"bestf : \",bestf)\n",
    "print(\"best indipendent features selected by genetic algorithm : \",best)"
   ]
  },
  {
   "cell_type": "code",
   "execution_count": 18,
   "id": "08448abd",
   "metadata": {},
   "outputs": [
    {
     "data": {
      "image/png": "[encoded data removed]",
      "text/plain": [
       "<Figure size 432x288 with 1 Axes>"
      ]
     },
     "metadata": {
      "needs_background": "light"
     },
     "output_type": "display_data"
    }
   ],
   "source": [
    "plt.plot(statistics[0],statistics[1])\n",
    "plt.xlabel('Generation')\n",
    "plt.ylabel('Maximum Fitness')\n",
    "plt.title('GA with multiselection')\n",
    "plt.show()"
   ]
  },
  {
   "cell_type": "code",
   "execution_count": 19,
   "id": "f64e6e1f",
   "metadata": {},
   "outputs": [
    {
     "data": {
      "image/png": "[encoded data removed]",
      "text/plain": [
       "<Figure size 432x288 with 1 Axes>"
      ]
     },
     "metadata": {
      "needs_background": "light"
     },
     "output_type": "display_data"
    }
   ],
   "source": [
    "plt.plot(statistics[0],statistics[2])\n",
    "plt.xlabel('Generation')\n",
    "plt.ylabel('Maximum Fitness')\n",
    "plt.title('GA with multiselection')\n",
    "plt.show()"
   ]
  },
  {
   "cell_type": "code",
   "execution_count": 17,
   "id": "464c1de8",
   "metadata": {},
   "outputs": [
    {
     "name": "stdout",
     "output_type": "stream",
     "text": [
      "generation with max fitness  5\n"
     ]
    }
   ],
   "source": [
    "print(\"generation with max fitness \",statistics[0][statistics[1].index(max(statistics[1]))])"
   ]
  },
  {
   "cell_type": "code",
   "execution_count": 20,
   "id": "32649c35",
   "metadata": {},
   "outputs": [
    {
     "name": "stdout",
     "output_type": "stream",
     "text": [
      "max fitness 0.6369666437456365\n"
     ]
    }
   ],
   "source": [
    "print(\"max fitness\" , max(statistics[1]))"
   ]
  },
  {
   "cell_type": "code",
   "execution_count": null,
   "id": "6c3ee3b0",
   "metadata": {},
   "outputs": [],
   "source": []
  }
 ],
 "metadata": {
  "kernelspec": {
   "display_name": "Python 3 (ipykernel)",
   "language": "python",
   "name": "python3"
  },
  "language_info": {
   "codemirror_mode": {
    "name": "ipython",
    "version": 3
   },
   "file_extension": ".py",
   "mimetype": "text/x-python",
   "name": "python",
   "nbconvert_exporter": "python",
   "pygments_lexer": "ipython3",
   "version": "3.9.7"
  }
 },
 "nbformat": 4,
 "nbformat_minor": 5
}
