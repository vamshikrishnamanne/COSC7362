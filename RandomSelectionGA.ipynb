{
 "cells": [
  {
   "cell_type": "code",
   "execution_count": 1,
   "metadata": {
    "id": "fIexROGE6XyD"
   },
   "outputs": [],
   "source": [
    "import random\n",
    "import numpy.random as npr\n",
    "from sklearn.cluster import KMeans\n",
    "import numpy as np\n",
    "import pandas as pd\n",
    "from sklearn.decomposition import PCA\n",
    "import matplotlib.pyplot as plt\n",
    "import math"
   ]
  },
  {
   "cell_type": "markdown",
   "metadata": {
    "id": "y40L-YEo8k1G"
   },
   "source": [
    "initializing chromosome size"
   ]
  },
  {
   "cell_type": "code",
   "execution_count": 2,
   "metadata": {
    "id": "OHD_dM_28jK2"
   },
   "outputs": [],
   "source": [
    "chromosome_size = 10\n",
    "population_size = 100"
   ]
  },
  {
   "cell_type": "markdown",
   "metadata": {
    "id": "LDZAPlrv73HJ"
   },
   "source": [
    "function for generating a chromosome"
   ]
  },
  {
   "cell_type": "code",
   "execution_count": 3,
   "metadata": {
    "id": "l_uEi9X16iTI"
   },
   "outputs": [],
   "source": [
    "def random_individual(size):\n",
    "    return [random.randint(1, size) for _ in range(size)]"
   ]
  },
  {
   "cell_type": "code",
   "execution_count": 4,
   "metadata": {
    "id": "3EaHceni8XSe"
   },
   "outputs": [],
   "source": [
    "def get_max_fitness(chromosome_size):\n",
    "  return int((chromosome_size*(chromosome_size-1))/2)"
   ]
  },
  {
   "cell_type": "code",
   "execution_count": 5,
   "metadata": {
    "id": "2ibkLtAE7_mV"
   },
   "outputs": [],
   "source": [
    "def fitness(individual):\n",
    "    horizontal_collisions = sum([individual.count(queen) - 1 for queen in individual]) / 2\n",
    "    n = len(individual)\n",
    "    left_diagonal = [0] * 2 * n\n",
    "    right_diagonal = [0] * 2 * n\n",
    "    for i in range(n):\n",
    "        left_diagonal[i + individual[i] - 1] += 1\n",
    "        right_diagonal[len(individual) - i + individual[i] - 2] += 1\n",
    "    diagonal_collisions = 0\n",
    "    for i in range(2 * n - 1):\n",
    "        counter = 0\n",
    "        if left_diagonal[i] > 1:\n",
    "            counter += left_diagonal[i] - 1\n",
    "        if right_diagonal[i] > 1:\n",
    "            counter += right_diagonal[i] - 1\n",
    "        diagonal_collisions += counter / (n - abs(i - n + 1))\n",
    "    return int(get_max_fitness(chromosome_size) - (horizontal_collisions + diagonal_collisions))"
   ]
  },
  {
   "cell_type": "markdown",
   "metadata": {
    "id": "ZXgr6xMn8zZY"
   },
   "source": [
    "method to calculate selection probability of an individual"
   ]
  },
  {
   "cell_type": "code",
   "execution_count": 6,
   "metadata": {
    "id": "fnQYNxHv8reG"
   },
   "outputs": [],
   "source": [
    "def probability(individual):\n",
    "    return (fitness(individual) / get_max_fitness(chromosome_size))"
   ]
  },
  {
   "cell_type": "markdown",
   "metadata": {
    "id": "DgVh7Wcc-ub1"
   },
   "source": [
    "selection probabilities"
   ]
  },
  {
   "cell_type": "code",
   "execution_count": 7,
   "metadata": {
    "id": "sBEvHT4F8-LM"
   },
   "outputs": [],
   "source": [
    "def random_pick(population, probabilities):\n",
    "    populationWithProbabilty = zip(population, probabilities)\n",
    "    total = sum(w for c, w in populationWithProbabilty)\n",
    "    r = random.uniform(0, total)\n",
    "    upto = 0\n",
    "    for c, w in zip(population, probabilities):\n",
    "        if upto + w >= r:\n",
    "            return c\n",
    "        upto += w\n",
    "def roulette_wheel(population):\n",
    "    max = sum([fitness(c) for c in population])\n",
    "    selection_probs = [fitness(c) / max for c in population]\n",
    "    return population[npr.choice(len(population), p=selection_probs)]\n",
    "\n",
    "def tournament_selection(population):\n",
    "    parents = random.choices(population, k=5)\n",
    "    parents = sorted(parents, key=lambda agent: fitness(agent), reverse=True)\n",
    "    return parents[0]\n",
    "\n",
    "def remove_duplicates(test_list):\n",
    "    res = []\n",
    "    for i in test_list:\n",
    "        if i not in res:\n",
    "            res.append(i)\n",
    "    return res\n",
    "\n",
    "def rank_selection(population):\n",
    "    population = remove_duplicates(population)\n",
    "    pop_size = len(population)\n",
    "    max = pop_size * (pop_size + 1) / 2\n",
    "    fitness_list = [fitness(c) for c in population]\n",
    "    population_tuples = [tuple(x) for x in population]\n",
    "    chromosomes = dict(zip(population_tuples, fitness_list))\n",
    "    chromosomes = {k: v for k, v in sorted(chromosomes.items(), key=lambda item: item[1])}\n",
    "    selection_probs = []\n",
    "    for i in range(pop_size):\n",
    "        selection_probs.append((i + 1) / max)\n",
    "    sorted_population = list(chromosomes.keys())\n",
    "    return list(sorted_population[npr.choice(len(sorted_population), p=selection_probs)])"
   ]
  },
  {
   "cell_type": "code",
   "execution_count": 8,
   "metadata": {
    "id": "sngx1LE9-zSA"
   },
   "outputs": [],
   "source": [
    "def crossover(x, y):\n",
    "    n = len(x)\n",
    "    c = random.randint(0, n - 1)\n",
    "    return x[0:c] + y[c:n]\n",
    "\n"
   ]
  },
  {
   "cell_type": "code",
   "execution_count": 9,
   "metadata": {
    "id": "21PK0y15_IPK"
   },
   "outputs": [],
   "source": [
    "def mutate(x):\n",
    "    n = len(x)\n",
    "    c = random.randint(0, n - 1)\n",
    "    m = random.randint(1, n)\n",
    "    x[c] = m\n",
    "    return x"
   ]
  },
  {
   "cell_type": "code",
   "execution_count": 10,
   "metadata": {
    "id": "pvO9LJ_8dFxg"
   },
   "outputs": [],
   "source": [
    "def print_chromosome(x):\n",
    "    print(\"{},  fitness = {}, probability = {:.6f}\"\n",
    "          .format(str(x), fitness(x), probability(x)))"
   ]
  },
  {
   "cell_type": "code",
   "execution_count": 11,
   "metadata": {
    "id": "KJ5vqgU3b53A"
   },
   "outputs": [],
   "source": [
    "def get_selection_type(generation):\n",
    "  if generation % 4 == 1:\n",
    "    return 'random pick'\n",
    "  elif generation % 4 == 2:\n",
    "    return 'roulette pick'\n",
    "  elif generation % 4 == 3:\n",
    "    return 'tournament pick'\n",
    "  elif generation % 4 == 0:\n",
    "    return 'rank pick'"
   ]
  },
  {
   "cell_type": "code",
   "execution_count": 12,
   "metadata": {
    "id": "jUeMYyGCYKUu"
   },
   "outputs": [],
   "source": [
    "def genetic_queen_selection(population, fitness, sel_type):\n",
    "    mutation_probability = 0.03\n",
    "    new_population = []\n",
    "    probabilities = [probability(n) for n in population]\n",
    "\n",
    "    for i in range(len(population)):\n",
    "        if sel_type=='random pick':\n",
    "            x = random_pick(population, probabilities)\n",
    "            y = random_pick(population, probabilities)\n",
    "        elif sel_type=='roulette pick':\n",
    "            x = roulette_wheel(population)\n",
    "            y = roulette_wheel(population)\n",
    "        elif sel_type=='tournament pick':\n",
    "            x = tournament_selection(population)\n",
    "            y = tournament_selection(population)\n",
    "        elif sel_type=='rank pick':\n",
    "            x = rank_selection(population)\n",
    "            y = rank_selection(population)\n",
    "        child = crossover(x, y)\n",
    "        if random.random() < mutation_probability:\n",
    "            child = mutate(child)\n",
    "        new_population.append(child)\n",
    "        if fitness(child) == get_max_fitness(chromosome_size): break\n",
    "    return new_population"
   ]
  },
  {
   "cell_type": "code",
   "execution_count": 13,
   "metadata": {
    "id": "1OT5MygPY37L"
   },
   "outputs": [
    {
     "name": "stdout",
     "output_type": "stream",
     "text": [
      "running\n",
      "Solved using regular GA with random selection method in Generation 12843!\n",
      "[10, 3, 9, 2, 5, 8, 1, 7, 4, 6],  fitness = 45, probability = 1.000000\n"
     ]
    }
   ],
   "source": [
    "print(\"running\")\n",
    "population_ini = [random_individual(chromosome_size) for _ in range(population_size)]\n",
    "population = population_ini\n",
    "generation = 1\n",
    "maximum_fitness = get_max_fitness(chromosome_size)\n",
    "statistics=[[],[],[]]\n",
    "while not maximum_fitness in [fitness(x) for x in population]:\n",
    "  selection_type = 'random pick'\n",
    "  population = genetic_queen_selection(population, fitness,selection_type)\n",
    "  fitness_of_population = [fitness(chromosome) for chromosome in population]\n",
    "  Maximum_Fitness=max(fitness_of_population)\n",
    "  Average_Fitness=sum(fitness_of_population)/len(population)\n",
    "  statistics[0].append(generation)\n",
    "  statistics[1].append(Maximum_Fitness)\n",
    "  statistics[2].append(Average_Fitness)\n",
    "  generation += 1\n",
    "print(\"Solved using regular GA with random selection method in Generation {}!\".format(generation - 1))\n",
    "for x in population:\n",
    "  if fitness(x) == maximum_fitness:\n",
    "    print_chromosome(x)"
   ]
  },
  {
   "cell_type": "code",
   "execution_count": 14,
   "metadata": {
    "id": "p9W-2-IxaUnJ"
   },
   "outputs": [
    {
     "data": {
      "image/png": "[encoded data removed]",
      "text/plain": [
       "<Figure size 432x288 with 1 Axes>"
      ]
     },
     "metadata": {
      "needs_background": "light"
     },
     "output_type": "display_data"
    }
   ],
   "source": [
    "plt.plot(statistics[0],statistics[1])\n",
    "plt.xlabel('Generation')\n",
    "plt.ylabel('Maximum Fitness')\n",
    "plt.title('GA with random selection')\n",
    "plt.show()"
   ]
  },
  {
   "cell_type": "code",
   "execution_count": 15,
   "metadata": {
    "id": "vCB4bUkQdkLB"
   },
   "outputs": [
    {
     "data": {
      "image/png": "[encoded data removed]",
      "text/plain": [
       "<Figure size 432x288 with 1 Axes>"
      ]
     },
     "metadata": {
      "needs_background": "light"
     },
     "output_type": "display_data"
    }
   ],
   "source": [
    "plt.plot(statistics[0],statistics[2])\n",
    "plt.xlabel('Generation')\n",
    "plt.ylabel('Average Fitness')\n",
    "plt.title('GA with random selection')\n",
    "plt.show()"
   ]
  }
 ],
 "metadata": {
  "colab": {
   "collapsed_sections": [],
   "name": "RandomSelectionGA.ipynb",
   "provenance": []
  },
  "kernelspec": {
   "display_name": "Python 3 (ipykernel)",
   "language": "python",
   "name": "python3"
  },
  "language_info": {
   "codemirror_mode": {
    "name": "ipython",
    "version": 3
   },
   "file_extension": ".py",
   "mimetype": "text/x-python",
   "name": "python",
   "nbconvert_exporter": "python",
   "pygments_lexer": "ipython3",
   "version": "3.9.7"
  }
 },
 "nbformat": 4,
 "nbformat_minor": 1
}
